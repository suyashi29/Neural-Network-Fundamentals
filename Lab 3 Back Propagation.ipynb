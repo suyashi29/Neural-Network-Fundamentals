{
 "cells": [
  {
   "cell_type": "markdown",
   "id": "90f9cb92",
   "metadata": {},
   "source": [
    "## Using the dataset provided with information about students, build a neural network using Keras to predict whether a student will pass or fail based on certain features"
   ]
  },
  {
   "cell_type": "code",
   "execution_count": null,
   "id": "6fa7e5d9",
   "metadata": {},
   "outputs": [],
   "source": [
    "## Import Libraries\n",
    "import numpy as np\n",
    "import pandas as pd\n",
    "from sklearn.model_selection import train_test_split\n",
    "from sklearn.preprocessing import StandardScaler\n",
    "from keras.models import Sequential\n",
    "from keras.layers import Dense\n"
   ]
  },
  {
   "cell_type": "code",
   "execution_count": null,
   "id": "c4b11ec8",
   "metadata": {},
   "outputs": [],
   "source": [
    "## Pre-Process Data\n",
    "# Assuming you have a CSV file named 'student_data.csv'\n",
    "data = pd.read_csv('student_data.csv')\n",
    "\n",
    "# Split the data into features (X) and labels (y)\n",
    "X = data.drop('pass_fail', axis=1)  # Assuming 'pass_fail' is the target variable\n",
    "y = data['pass_fail']\n",
    "\n",
    "# Split the data into training and testing sets\n",
    "X_train, X_test, y_train, y_test = train_test_split(X, y, test_size=0.2, random_state=42)\n",
    "\n",
    "# Standardize the features\n",
    "scaler = StandardScaler()\n",
    "X_train = scaler.fit_transform(X_train)\n",
    "X_test = scaler.transform(X_test)\n"
   ]
  },
  {
   "cell_type": "markdown",
   "id": "de5e1dc4",
   "metadata": {},
   "source": [
    " ### Build the Neural Network model:"
   ]
  },
  {
   "cell_type": "code",
   "execution_count": null,
   "id": "e0d72ab6",
   "metadata": {},
   "outputs": [],
   "source": [
    "## model = Sequential()\n",
    "model.add(Dense(4, input_dim=X_train.shape[1], activation='relu'))\n",
    "model.add(Dense(1, activation='sigmoid'))\n",
    "\n",
    "# Compile the model\n",
    "model.compile(loss='binary_crossentropy', optimizer='adam', metrics=['accuracy'])\n"
   ]
  },
  {
   "cell_type": "code",
   "execution_count": null,
   "id": "f7c58559",
   "metadata": {},
   "outputs": [],
   "source": [
    "##Train the model using backpropagation:\n",
    "model.fit(X_train, y_train, epochs=50, batch_size=32, validation_split=0.2)\n"
   ]
  },
  {
   "cell_type": "code",
   "execution_count": null,
   "id": "aa1d87df",
   "metadata": {},
   "outputs": [],
   "source": [
    "# Evaluate on the test set\n",
    "loss, accuracy = model.evaluate(X_test, y_test)\n",
    "print(f'Test Loss: {loss:.4f}, Test Accuracy: {accuracy:.4f}')\n"
   ]
  }
 ],
 "metadata": {
  "kernelspec": {
   "display_name": "Python 3 (ipykernel)",
   "language": "python",
   "name": "python3"
  },
  "language_info": {
   "codemirror_mode": {
    "name": "ipython",
    "version": 3
   },
   "file_extension": ".py",
   "mimetype": "text/x-python",
   "name": "python",
   "nbconvert_exporter": "python",
   "pygments_lexer": "ipython3",
   "version": "3.9.12"
  }
 },
 "nbformat": 4,
 "nbformat_minor": 5
}
